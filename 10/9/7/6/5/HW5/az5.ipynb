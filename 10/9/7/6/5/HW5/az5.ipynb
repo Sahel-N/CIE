{
 "cells": [
  {
   "cell_type": "markdown",
   "metadata": {},
   "source": [
    "this part was by 9923081 and do to system errors has lackings"
   ]
  },
  {
   "cell_type": "code",
   "execution_count": 1,
   "metadata": {},
   "outputs": [],
   "source": [
    "import torch \n",
    "import torch.nn as nn \n",
    "import numpy as np\n",
    "import matplotlib.pyplot as plt\n",
    "from sklearn.cluster import KMeans"
   ]
  },
  {
   "cell_type": "code",
   "execution_count": 47,
   "metadata": {},
   "outputs": [],
   "source": [
    "def exp(x , mean,varians):\n",
    "\n",
    "    a = 1 / (varians * np.sqrt(2 * np.pi))\n",
    "    \n",
    "    result = a * np.exp(-((x - mean) ** 2) / (2 * varians ** 2))\n",
    "    \n",
    "    return result"
   ]
  },
  {
   "cell_type": "code",
   "execution_count": 48,
   "metadata": {},
   "outputs": [],
   "source": [
    "def k_means(data, k):\n",
    "\n",
    "    kmeans = KMeans(n_clusters=k, random_state=0)\n",
    "    kmeans.fit(data)\n",
    "    means = kmeans.cluster_centers_\n",
    "    labels = kmeans.labels_\n",
    "    std_devs = []\n",
    "    \n",
    "    for i in range(k):\n",
    "        cluster_data = data[labels == i]\n",
    "        std_dev = np.td(cluster_data, axis=0)\n",
    "        std_devs.append(std_dev)\n",
    "    \n",
    "    return means, std_devs\n"
   ]
  },
  {
   "cell_type": "code",
   "execution_count": 49,
   "metadata": {},
   "outputs": [],
   "source": [
    "class RBF:\n",
    "    \n",
    "    def __init__(self, n_rbf_units, n_input, n_output, lr):\n",
    "        \n",
    "        self.n_rbf_units = n_rbf_units \n",
    "        self.n_input = n_input \n",
    "        self.n_output = n_output\n",
    "        self.lr = lr \n",
    "        \n",
    "        self.weights = np.random.randn(self.n_rbf_units, self.n_output) * 0.01  \n",
    "        self.bias = np.zeros((1, self.n_output)) \n",
    "        self.centers = None\n",
    "        self.std = None\n",
    "\n",
    "    def fit(self, X, k):\n",
    "        \n",
    "        self.centers = kmeans.cluster_centers_\n",
    "        self.std = np.array([np.std(X[kmeans.labels_ == i]) for i in range(k)])\n",
    "\n",
    "    def _calculate_activations(self, X):\n",
    "\n",
    "        G = np.zeros((X.shape[0], self.n_rbf_units))\n",
    "        for i, x in enumerate(X):\n",
    "            for j, center in enumerate(self.centers):\n",
    "                G[i, j] = exp(x, center, self.variances[j])\n",
    "        return G\n",
    "\n",
    "    def train(self, X, y, epochs):\n",
    "    \n",
    "        for epoch in range(epochs):\n",
    "            \n",
    "            # Forward Pass:\n",
    "            G = self._calculate_activations(X)\n",
    "            y_pred = G.dot(self.weights) + self.bias\n",
    "            \n",
    "            # Loss Calculation\n",
    "            error = y - y_pred\n",
    "            \n",
    "            # Backward Pass\n",
    "            gradient = -G.T.dot(error) / len(X)\n",
    "            \n",
    "            # Weights and Bias Update\n",
    "            self.weights -= self.lr * gradient\n",
    "            self.bias -= self.lr * np.mean(error, axis=0)\n",
    "            \n",
    "            # Loss Calculation\n",
    "            mse = np.mean(error ** 2)\n",
    "            print(f'Epoch {epoch+1}/{epochs}, MSE: {mse}')\n",
    "\n",
    "    def predict(self, X):\n",
    "        \n",
    "        G = self._calculate_activations(X)\n",
    "        y_pred = G.dot(self.weights) + self.bias \n",
    "        \n",
    "        return y_pred"
   ]
  },
  {
   "cell_type": "code",
   "execution_count": 50,
   "metadata": {},
   "outputs": [],
   "source": [
    "def generate_data(num_samples=100):\n",
    "    \n",
    "    X = np.linspace(0, 2 * np.pi, num_samples).reshape(-1, 1)\n",
    "    y = np.sin(X) + np.random.normal(0, 0.1, X.shape)\n",
    "    \n",
    "    return X, y"
   ]
  },
  {
   "cell_type": "code",
   "execution_count": null,
   "metadata": {},
   "outputs": [],
   "source": [
    "if __name__ == \"__main__\":\n",
    "    \n",
    "    X, y = generate_data(num_samples=100)\n",
    "\n",
    "    rbf_net = RBF(n_rbf_units=10, n_input=1, lr=0.01)\n",
    "    rbf_net.fit(X, k=10)\n",
    "    rbf_net.train(X, y, epochs=100)\n",
    "\n",
    "    y_pred = rbf_net.predict(X)"
   ]
  },
  {
   "cell_type": "code",
   "execution_count": null,
   "metadata": {},
   "outputs": [],
   "source": [
    "plt.figure(figsize=(10, 6))\n",
    "plt.scatter(X, y, label='Noisy Data', color='blue')\n",
    "plt.plot(X, y_pred, label='RBF Network Prediction', color='red', linewidth=2)\n",
    "plt.title('RBF Network Fitting to Noisy Sinusoidal Data')\n",
    "plt.xlabel('X')\n",
    "plt.ylabel('y')\n",
    "plt.legend()\n",
    "plt.grid()\n",
    "plt.show()"
   ]
  }
 ],
 "metadata": {
  "kernelspec": {
   "display_name": ".venv",
   "language": "python",
   "name": "python3"
  },
  "language_info": {
   "codemirror_mode": {
    "name": "ipython",
    "version": 3
   },
   "file_extension": ".py",
   "mimetype": "text/x-python",
   "name": "python",
   "nbconvert_exporter": "python",
   "pygments_lexer": "ipython3",
   "version": "3.12.2"
  }
 },
 "nbformat": 4,
 "nbformat_minor": 2
}
